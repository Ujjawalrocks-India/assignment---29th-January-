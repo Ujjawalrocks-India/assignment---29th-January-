{
 "cells": [
  {
   "cell_type": "markdown",
   "id": "942dc5e7-6352-4642-b69e-1630ce872428",
   "metadata": {},
   "source": [
    "### Q1"
   ]
  },
  {
   "cell_type": "code",
   "execution_count": null,
   "id": "b30bcc43-977e-4bfd-b5ff-8a88daccf87c",
   "metadata": {},
   "outputs": [],
   "source": [
    "Guido van Rossum developed python programming language "
   ]
  },
  {
   "cell_type": "markdown",
   "id": "4676c214-e4af-4193-b1c1-76f89555b627",
   "metadata": {},
   "source": [
    "### Q2"
   ]
  },
  {
   "cell_type": "code",
   "execution_count": null,
   "id": "f33040bd-bf90-4c0c-8578-dc1409aac4f8",
   "metadata": {},
   "outputs": [],
   "source": [
    "Object-oriented programming and structured programming type of programming does python support"
   ]
  },
  {
   "cell_type": "markdown",
   "id": "5c6a000e-a5dd-408f-b956-8fc6af8c05cd",
   "metadata": {},
   "source": [
    "### Q3"
   ]
  },
  {
   "cell_type": "code",
   "execution_count": null,
   "id": "340e57bd-e86a-45ca-a757-e115995c0fa0",
   "metadata": {},
   "outputs": [],
   "source": [
    "Yes, Python is a case-sensitive language when dealing with identifiers"
   ]
  },
  {
   "cell_type": "markdown",
   "id": "92a262db-03f7-40ba-a9a6-34c30e9a5a5b",
   "metadata": {},
   "source": [
    "### Q4"
   ]
  },
  {
   "cell_type": "code",
   "execution_count": null,
   "id": "a0b99bb6-1b55-4280-8c48-f2fcb6402055",
   "metadata": {},
   "outputs": [],
   "source": [
    "The .py extension is the correct extension of the python file"
   ]
  },
  {
   "cell_type": "markdown",
   "id": "02ebc261-ec35-4ab9-a761-12b7f2f404a3",
   "metadata": {},
   "source": [
    "### Q5"
   ]
  },
  {
   "cell_type": "code",
   "execution_count": null,
   "id": "8e7482ec-77dd-45a4-becd-313d383923d5",
   "metadata": {},
   "outputs": [],
   "source": [
    "Python code is interpreted"
   ]
  },
  {
   "cell_type": "markdown",
   "id": "bbf517ee-a5ed-4175-8c66-1bdb9ea305dd",
   "metadata": {},
   "source": [
    "### Q6"
   ]
  },
  {
   "cell_type": "code",
   "execution_count": null,
   "id": "bc39b631-398e-4033-a5a5-94a71ef58bd6",
   "metadata": {},
   "outputs": [],
   "source": [
    "Indentation is a few blocks of code used to define in python language"
   ]
  },
  {
   "cell_type": "markdown",
   "id": "39d4e69f-3094-4f49-a913-3439d12a84f8",
   "metadata": {},
   "source": [
    "### Q7"
   ]
  },
  {
   "cell_type": "code",
   "execution_count": null,
   "id": "b8cb8c0c-ca08-4826-9b68-0b0efd1af89f",
   "metadata": {},
   "outputs": [],
   "source": [
    "Hash \"#\" is a character used to give single-line comments in python"
   ]
  },
  {
   "cell_type": "markdown",
   "id": "c4c5d102-8452-46f6-baf5-3ac538625873",
   "metadata": {},
   "source": [
    "### Q8"
   ]
  },
  {
   "cell_type": "code",
   "execution_count": null,
   "id": "b7271c36-1e9b-45bf-90f7-061cdac527f4",
   "metadata": {},
   "outputs": [],
   "source": [
    "sys. Version are functions which can help us to find the version of python that we are currently working on"
   ]
  },
  {
   "cell_type": "markdown",
   "id": "22e6ff4e-3268-45eb-a63e-6d9597304293",
   "metadata": {},
   "source": [
    "### Q9"
   ]
  },
  {
   "cell_type": "code",
   "execution_count": null,
   "id": "66b2bb13-2eff-4a4d-8f5e-11e9fe6950ff",
   "metadata": {},
   "outputs": [],
   "source": [
    "Python supports the creation of anonymous functions at runtime, using a construct called lambda function"
   ]
  },
  {
   "cell_type": "markdown",
   "id": "fbe5928a-6461-45c7-abc8-d596dbfa443c",
   "metadata": {},
   "source": [
    "### Q10"
   ]
  },
  {
   "cell_type": "code",
   "execution_count": null,
   "id": "6de280c6-3d80-463f-bfc7-71f0955fdec7",
   "metadata": {},
   "outputs": [],
   "source": [
    "Preferred Installed Program is the pip stands for python"
   ]
  },
  {
   "cell_type": "markdown",
   "id": "51db410c-1bfb-4c5e-a296-d89a9297ef3c",
   "metadata": {},
   "source": [
    "### Q11"
   ]
  },
  {
   "cell_type": "code",
   "execution_count": null,
   "id": "ddfa9ca4-2b48-4d57-9233-474acc035972",
   "metadata": {},
   "outputs": [],
   "source": [
    "dir(), max(), abs(), input(),sorted(), pow() are few built-in functions in python"
   ]
  },
  {
   "cell_type": "markdown",
   "id": "ccdd02ba-b4ed-4cb7-a5ef-b4e5780847f4",
   "metadata": {},
   "source": [
    "### Q12"
   ]
  },
  {
   "cell_type": "code",
   "execution_count": null,
   "id": "69e21bb3-e851-4588-9a37-9339293203f7",
   "metadata": {},
   "outputs": [],
   "source": [
    "The maximum possible length of an identifier in python is 79 characters"
   ]
  },
  {
   "cell_type": "markdown",
   "id": "e64b9fa8-daa5-4aad-94d2-b27fc36d58d7",
   "metadata": {},
   "source": [
    "### Q13"
   ]
  },
  {
   "cell_type": "code",
   "execution_count": null,
   "id": "5a13eacd-253b-41cb-b153-2e176f051eeb",
   "metadata": {},
   "outputs": [],
   "source": [
    "Following are the benefits of using python :\n",
    "    Easy to learn and use, hundreds of python libraries and frameworks, Big data, Machine Learning and Cloud computing"
   ]
  },
  {
   "cell_type": "markdown",
   "id": "ce91d518-2047-4914-87c1-90f9a69c8744",
   "metadata": {},
   "source": [
    "### Q14"
   ]
  },
  {
   "cell_type": "code",
   "execution_count": null,
   "id": "f413e382-5480-4a8d-8410-49128fc5765d",
   "metadata": {},
   "outputs": [],
   "source": [
    "Memory management in Python involves a private heap containing all Python objects and data structures"
   ]
  },
  {
   "cell_type": "markdown",
   "id": "3971d984-11ed-4451-b0c4-6db1d6215ffc",
   "metadata": {},
   "source": [
    "### Q15"
   ]
  },
  {
   "cell_type": "code",
   "execution_count": null,
   "id": "33e7c80a-2f39-49b8-b111-dd6fea2ac7d7",
   "metadata": {},
   "outputs": [],
   "source": [
    "Following is the way to install python on windows and set path variables :\n",
    "    Right-click the PC and go to Properties\n",
    "    Click on the Advanced system settings in the menu on the left\n",
    "    Click on the environment variables button on the bottom right\n",
    "    In the system variables section, select the path variable and click on Edit. The next screen will show all the directories that are currently a part of the PATH variable.\n",
    "    Click on New and enter Python's install directory"
   ]
  },
  {
   "cell_type": "markdown",
   "id": "2b2b5233-0681-4eef-a93d-d162344c77ff",
   "metadata": {},
   "source": [
    "### Q16"
   ]
  },
  {
   "cell_type": "code",
   "execution_count": null,
   "id": "aae4d7d7-0c65-403a-96fd-524def493e49",
   "metadata": {},
   "outputs": [],
   "source": [
    "Yes indentation required in python"
   ]
  }
 ],
 "metadata": {
  "kernelspec": {
   "display_name": "Python 3 (ipykernel)",
   "language": "python",
   "name": "python3"
  },
  "language_info": {
   "codemirror_mode": {
    "name": "ipython",
    "version": 3
   },
   "file_extension": ".py",
   "mimetype": "text/x-python",
   "name": "python",
   "nbconvert_exporter": "python",
   "pygments_lexer": "ipython3",
   "version": "3.10.8"
  }
 },
 "nbformat": 4,
 "nbformat_minor": 5
}
